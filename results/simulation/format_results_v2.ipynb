{
 "cells": [
  {
   "cell_type": "code",
   "execution_count": 2,
   "metadata": {},
   "outputs": [],
   "source": [
    "import os\n",
    "import pandas as pd\n",
    "\n",
    "pd.set_option('display.max_rows', 500)\n",
    "pd.set_option('display.max_columns', 500)\n",
    "pd.set_option('display.width', 100)"
   ]
  },
  {
   "cell_type": "code",
   "execution_count": 3,
   "metadata": {},
   "outputs": [],
   "source": [
    "def format_results(filename, print_table = True):\n",
    "    results = pd.read_csv(filename)\n",
    "    results = results.drop(results[results.bias == 1].index)\n",
    "    results = results.reindex(['v', 'CATE_v', 'alg', 'mean_est', 'mean_SE', 'CI 80', 'CI 95'], axis=1).dropna(how='all', axis=1)\n",
    "    results['diff 80'] = results['CI 80'] - 0.8\n",
    "    results['diff 95'] = results['CI 95'] - 0.95\n",
    "\n",
    "    results = results.round(2)\n",
    "    results['alg'] = results['alg'].str[4:].astype(float)\n",
    "    results['CI 80'] = pd.Series([\"{0:.0f}%\".format(val * 100) for val in results['CI 80']], index = results.index)\n",
    "    results['CI 95'] = pd.Series([\"{0:.0f}%\".format(val * 100) for val in results['CI 95']], index = results.index)\n",
    "    results['diff 80'] = pd.Series([\"{0:.0f}%\".format(val * 100) for val in results['diff 80']], index = results.index)\n",
    "    results['diff 95'] = pd.Series([\"{0:.0f}%\".format(val * 100) for val in results['diff 95']], index = results.index)\n",
    "\n",
    "    # results = results.drop(results[results.alg != 0.50].index)\n",
    "\n",
    "    if print_table == True:\n",
    "        print(results.to_string(index = False))\n",
    "    else:\n",
    "        return results"
   ]
  },
  {
   "cell_type": "code",
   "execution_count": 18,
   "metadata": {},
   "outputs": [],
   "source": [
    "def format_df(filename, latex = False):\n",
    "    results = pd.read_csv(filename)\n",
    "    results = results.drop(results[results.bias == 1].index)\n",
    "    results = results.reindex(['v', 'CATE_v', 'alg', 'mean_est', 'mean_SE', 'CI.95'], axis=1).dropna(how='all', axis=1)\n",
    "\n",
    "    results = results.round(2)\n",
    "    results['alg'] = results['alg'].str[4:].astype(float)\n",
    "    if latex == True:\n",
    "        results['CI.95'] = pd.Series([\"{0:.0f}\\%\".format(val * 100) for val in results['CI.95']], index = results.index)\n",
    "    else:\n",
    "        results['CI.95'] = pd.Series([\"{0:.0f}%\".format(val * 100) for val in results['CI.95']], index = results.index)\n",
    "    \n",
    "    return results\n",
    "\n",
    "def get_results(file_list, latex = False):\n",
    "    temp = format_df(file_list[0], latex = latex)\n",
    "    results_list = [temp]\n",
    "    for file in file_list[1:]:\n",
    "        temp = format_df(file, latex = latex).iloc[:, 3:]\n",
    "        results_list.append(temp)\n",
    "\n",
    "    results_combo = pd.concat(results_list, axis = 1)\n",
    "\n",
    "    if latex == True:\n",
    "        results_combo = results_combo.style.format(precision = 2).hide()  # No row names\n",
    "        print(results_combo.to_latex())\n",
    "    else:\n",
    "        print(results_combo.to_string(index = False))\n",
    "        "
   ]
  },
  {
   "cell_type": "code",
   "execution_count": 21,
   "metadata": {},
   "outputs": [
    {
     "name": "stdout",
     "output_type": "stream",
     "text": [
      "\\begin{tabular}{rrrrrlrrlrrl}\n",
      "v & CATE_v & alg & mean_est & mean_SE & CI.95 & mean_est & mean_SE & CI.95 & mean_est & mean_SE & CI.95 \\\\\n",
      "-0.25 & -0.10 & 0.25 & -0.10 & 0.09 & 99\\% & -0.10 & 0.05 & 94\\% & -0.12 & 0.07 & 96\\% \\\\\n",
      "-0.25 & -0.10 & 0.50 & -0.08 & 0.06 & 99\\% & -0.10 & 0.04 & 94\\% & -0.11 & 0.05 & 98\\% \\\\\n",
      "-0.25 & -0.10 & 1.00 & -0.06 & 0.04 & 97\\% & -0.08 & 0.03 & 87\\% & -0.09 & 0.03 & 96\\% \\\\\n",
      "0.00 & 0.00 & 0.25 & 0.02 & 0.07 & 94\\% & 0.00 & 0.03 & 94\\% & -0.01 & 0.06 & 96\\% \\\\\n",
      "0.00 & 0.00 & 0.50 & 0.03 & 0.06 & 98\\% & 0.01 & 0.02 & 93\\% & -0.00 & 0.05 & 97\\% \\\\\n",
      "0.00 & 0.00 & 1.00 & 0.05 & 0.04 & 92\\% & 0.03 & 0.02 & 80\\% & 0.02 & 0.04 & 93\\% \\\\\n",
      "0.25 & 0.32 & 0.25 & 0.36 & 0.15 & 98\\% & 0.39 & 0.19 & 94\\% & 0.36 & 0.17 & 94\\% \\\\\n",
      "0.25 & 0.32 & 0.50 & 0.37 & 0.11 & 99\\% & 0.38 & 0.14 & 95\\% & 0.35 & 0.12 & 97\\% \\\\\n",
      "0.25 & 0.32 & 1.00 & 0.34 & 0.08 & 99\\% & 0.35 & 0.10 & 95\\% & 0.33 & 0.10 & 98\\% \\\\\n",
      "\\end{tabular}\n",
      "\n"
     ]
    }
   ],
   "source": [
    "dir = \"it_500_lam_0.05_0.01_0.005\"\n",
    "os.chdir('C:/Users/liuw/Dropbox (Personal)/MIT Pre-Doc Personal/Rahul Singh/Debiased Kernel Methods/New Code/results/simulation' + '/' + dir)\n",
    "file_list = ['n100_p13_CEF1.csv', 'n100_p13_CEF2.csv', 'n100_p13_CEF3.csv']\n",
    "\n",
    "get_results(file_list, latex = True)"
   ]
  },
  {
   "cell_type": "code",
   "execution_count": 22,
   "metadata": {},
   "outputs": [
    {
     "name": "stdout",
     "output_type": "stream",
     "text": [
      "\\begin{tabular}{rrrrrlrrlrrl}\n",
      "v & CATE_v & alg & mean_est & mean_SE & CI.95 & mean_est & mean_SE & CI.95 & mean_est & mean_SE & CI.95 \\\\\n",
      "-0.25 & -0.10 & 0.25 & -0.09 & 0.07 & 95\\% & -0.10 & 0.05 & 93\\% & -0.10 & 0.05 & 93\\% \\\\\n",
      "-0.25 & -0.10 & 0.50 & -0.09 & 0.05 & 97\\% & -0.09 & 0.04 & 95\\% & -0.09 & 0.04 & 95\\% \\\\\n",
      "-0.25 & -0.10 & 1.00 & -0.07 & 0.04 & 94\\% & -0.08 & 0.02 & 82\\% & -0.08 & 0.03 & 87\\% \\\\\n",
      "0.00 & 0.00 & 0.25 & 0.02 & 0.06 & 96\\% & 0.00 & 0.03 & 96\\% & 0.00 & 0.03 & 97\\% \\\\\n",
      "0.00 & 0.00 & 0.50 & 0.03 & 0.05 & 98\\% & 0.01 & 0.02 & 94\\% & 0.01 & 0.03 & 96\\% \\\\\n",
      "0.00 & 0.00 & 1.00 & 0.05 & 0.04 & 87\\% & 0.03 & 0.02 & 78\\% & 0.03 & 0.02 & 80\\% \\\\\n",
      "0.25 & 0.32 & 0.25 & 0.38 & 0.17 & 97\\% & 0.36 & 0.16 & 95\\% & 0.34 & 0.14 & 96\\% \\\\\n",
      "0.25 & 0.32 & 0.50 & 0.37 & 0.12 & 99\\% & 0.35 & 0.11 & 95\\% & 0.34 & 0.10 & 97\\% \\\\\n",
      "0.25 & 0.32 & 1.00 & 0.35 & 0.09 & 99\\% & 0.34 & 0.09 & 96\\% & 0.32 & 0.08 & 97\\% \\\\\n",
      "\\end{tabular}\n",
      "\n"
     ]
    }
   ],
   "source": [
    "dir = \"it_500_lam_0.05_0.01_0.005\"\n",
    "os.chdir('C:/Users/liuw/Dropbox (Personal)/MIT Pre-Doc Personal/Rahul Singh/Debiased Kernel Methods/New Code/results/simulation' + '/' + dir)\n",
    "file_list = ['n100_p57_CEF1.csv', 'n100_p57_CEF2.csv', 'n100_p57_CEF3.csv']\n",
    "\n",
    "get_results(file_list, latex = True)"
   ]
  }
 ],
 "metadata": {
  "kernelspec": {
   "display_name": "Python 3",
   "language": "python",
   "name": "python3"
  },
  "language_info": {
   "codemirror_mode": {
    "name": "ipython",
    "version": 3
   },
   "file_extension": ".py",
   "mimetype": "text/x-python",
   "name": "python",
   "nbconvert_exporter": "python",
   "pygments_lexer": "ipython3",
   "version": "3.11.4"
  }
 },
 "nbformat": 4,
 "nbformat_minor": 2
}
